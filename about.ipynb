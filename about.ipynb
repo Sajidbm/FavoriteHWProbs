{
  "cells": [
    {
      "cell_type": "raw",
      "metadata": {},
      "source": [
        "---\n",
        "title: \"About\"\n",
        "image: gerape.jpeg\n",
        "about:\n",
        "  template: jolla\n",
        "\n",
        "---"
      ],
      "id": "3e5e9a7e"
    },
    {
      "cell_type": "code",
      "metadata": {},
      "source": [
        "def FavHWProblems(HW):\n",
        "  if Cool & Hard:\n",
        "    return blog \n",
        "\n",
        "FavHWProblems(Fall22)"
      ],
      "id": "fb060766",
      "execution_count": null,
      "outputs": []
    }
  ],
  "metadata": {
    "kernelspec": {
      "name": "python3",
      "language": "python",
      "display_name": "Python 3 (ipykernel)"
    }
  },
  "nbformat": 4,
  "nbformat_minor": 5
}